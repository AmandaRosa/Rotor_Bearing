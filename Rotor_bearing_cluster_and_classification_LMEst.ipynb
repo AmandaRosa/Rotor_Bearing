{
 "cells": [
  {
   "cell_type": "markdown",
   "metadata": {},
   "source": [
    "## Banco de dados DATASET3 - Bearing Classification"
   ]
  },
  {
   "cell_type": "markdown",
   "metadata": {},
   "source": [
    "### Importação de Bibliotecas"
   ]
  },
  {
   "cell_type": "code",
   "execution_count": 17,
   "metadata": {},
   "outputs": [],
   "source": [
    "import pandas as pd\n",
    "import numpy as np"
   ]
  },
  {
   "cell_type": "markdown",
   "metadata": {},
   "source": [
    "### Carregamento de arquivos"
   ]
  },
  {
   "cell_type": "code",
   "execution_count": 23,
   "metadata": {},
   "outputs": [],
   "source": [
    "\n",
    "signals_TRAC1 = '../../Dados/Dados_Bancada_Jamal/TRAC1.TXT'\n",
    "signals_TRAC2 = '../../Dados/Dados_Bancada_Jamal/TRAC2.TXT'\n",
    "\n",
    "time_TRAC1 = []\n",
    "signal_TRAC1 = []\n",
    "time_TRAC2 = []\n",
    "signal_TRAC2 = []\n",
    "\n",
    "# Open the file and read its content\n",
    "with open(signals_TRAC1, 'r') as file:\n",
    "    data_TRAC1 = file.read()\n",
    "\n",
    "# Open the file and read its content\n",
    "with open(signals_TRAC2, 'r') as file:\n",
    "    data_TRAC2 = file.read()\n",
    "\n"
   ]
  },
  {
   "cell_type": "markdown",
   "metadata": {},
   "source": [
    "### Tratamento dos dados em vetores de entrada"
   ]
  },
  {
   "cell_type": "code",
   "execution_count": 26,
   "metadata": {},
   "outputs": [],
   "source": [
    "#### TRAC1\n",
    "lines_TRAC1 = data_TRAC1.split('\\n')\n",
    "\n",
    "for line in lines_TRAC1:\n",
    "    if not line:\n",
    "        continue\n",
    "\n",
    "    # Split each line into columns using a space as a delimiter (adjust as needed)\n",
    "    columns = line.strip().split()\n",
    "\n",
    "    # Convert the first, second, and third columns to floats (adjust data types as needed)\n",
    "    col1_value = columns[0]\n",
    "    col2_value = columns[1]\n",
    "\n",
    "    # Append values to respective lists\n",
    "    time_TRAC1.append(col1_value)\n",
    "    signal_TRAC1.append(col2_value)\n",
    "\n",
    "# Convert lists to NumPy arrays\n",
    "np_time_TRAC1 = np.array(time_TRAC1)\n",
    "np_signal_TRAC1 = np.array(signal_TRAC1)\n"
   ]
  },
  {
   "cell_type": "code",
   "execution_count": 27,
   "metadata": {},
   "outputs": [],
   "source": [
    "#### TRAC2\n",
    "lines_TRAC2 = data_TRAC2.split('\\n')\n",
    "\n",
    "for line in lines_TRAC2:\n",
    "    if not line:\n",
    "        continue\n",
    "\n",
    "    # Split each line into columns using a space as a delimiter (adjust as needed)\n",
    "    columns = line.strip().split()\n",
    "\n",
    "    # Convert the first, second, and third columns to floats (adjust data types as needed)\n",
    "    col1_value = columns[0]\n",
    "    col2_value = columns[1]\n",
    "\n",
    "    # Append values to respective lists\n",
    "    time_TRAC2.append(col1_value)\n",
    "    signal_TRAC2.append(col2_value)\n",
    "\n",
    "# Convert lists to NumPy arrays\n",
    "np_time_TRAC2 = np.array(time_TRAC2)\n",
    "np_signal_TRAC2 = np.array(signal_TRAC2)"
   ]
  },
  {
   "cell_type": "markdown",
   "metadata": {},
   "source": [
    "#### Visualização dos sinais"
   ]
  },
  {
   "cell_type": "code",
   "execution_count": null,
   "metadata": {},
   "outputs": [],
   "source": []
  },
  {
   "cell_type": "markdown",
   "metadata": {},
   "source": [
    "### Aplicação de técnicas de pré-processamento de sinais - Filtros"
   ]
  },
  {
   "cell_type": "code",
   "execution_count": null,
   "metadata": {},
   "outputs": [],
   "source": [
    "## Passa-baixa\n",
    "\n",
    "\n",
    "## Passa-alta\n",
    "\n",
    "\n",
    "## 60Hz\n"
   ]
  },
  {
   "cell_type": "markdown",
   "metadata": {},
   "source": [
    "### Inserção de Ruídos"
   ]
  },
  {
   "cell_type": "code",
   "execution_count": null,
   "metadata": {},
   "outputs": [],
   "source": []
  },
  {
   "cell_type": "markdown",
   "metadata": {},
   "source": [
    "### Aplicação de técnicas de processamento de sinais - Cálculos estatísticos"
   ]
  },
  {
   "cell_type": "code",
   "execution_count": null,
   "metadata": {},
   "outputs": [],
   "source": []
  },
  {
   "cell_type": "markdown",
   "metadata": {},
   "source": [
    "### Aplicação de técnicas de inteligência artificial"
   ]
  },
  {
   "cell_type": "code",
   "execution_count": null,
   "metadata": {},
   "outputs": [],
   "source": []
  },
  {
   "cell_type": "markdown",
   "metadata": {},
   "source": [
    "### Gráficos - Apresentação dos resultados"
   ]
  },
  {
   "cell_type": "markdown",
   "metadata": {},
   "source": []
  }
 ],
 "metadata": {
  "kernelspec": {
   "display_name": "Python 3",
   "language": "python",
   "name": "python3"
  },
  "language_info": {
   "codemirror_mode": {
    "name": "ipython",
    "version": 3
   },
   "file_extension": ".py",
   "mimetype": "text/x-python",
   "name": "python",
   "nbconvert_exporter": "python",
   "pygments_lexer": "ipython3",
   "version": "3.9.5"
  }
 },
 "nbformat": 4,
 "nbformat_minor": 2
}
