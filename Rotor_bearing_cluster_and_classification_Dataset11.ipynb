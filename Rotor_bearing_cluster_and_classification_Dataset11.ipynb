{
 "cells": [
  {
   "cell_type": "markdown",
   "metadata": {},
   "source": [
    "## Banco de dados DATASET11 - Bearing Classification"
   ]
  },
  {
   "cell_type": "markdown",
   "metadata": {},
   "source": [
    "### Importação de Bibliotecas"
   ]
  },
  {
   "cell_type": "code",
   "execution_count": 1,
   "metadata": {},
   "outputs": [],
   "source": [
    "import pandas as pd\n",
    "import numpy as np\n",
    "import matplotlib.pyplot as plt\n",
    "import scipy\n",
    "from scipy.signal import iirnotch\n",
    "import scipy.io\n"
   ]
  },
  {
   "cell_type": "markdown",
   "metadata": {},
   "source": [
    "### Carregamento de arquivos"
   ]
  },
  {
   "cell_type": "code",
   "execution_count": 2,
   "metadata": {},
   "outputs": [],
   "source": [
    "\n",
    "letters = ['H', 'I', 'O'] # 0-healthy, I-inner fault, O-outer fault\n",
    "# letters = ['H']\n",
    "speeds = ['A', 'B', 'C', 'D']\n",
    "# speeds = ['A']\n",
    "trials = ['1','2', '3']\n",
    "# trials = ['1']\n",
    "state = 0\n",
    "dataset = []\n",
    "for letter in letters:\n",
    "    for speed in speeds:\n",
    "        for trial in trials:\n",
    "            path_signal = f'../../Dados/Rotor_Bearing/Dataset11/Data/{letter}-{speed}-{trial}.mat'\n",
    "            df_signal = scipy.io.loadmat(path_signal)\n",
    "            channel_1 = df_signal['Channel_1'].flatten()\n",
    "            # channel_2 = df_signal['Channel_2'].flatten()\n",
    "            signal = []\n",
    "            signal.append([channel_1, state])\n",
    "            dataset.append(signal)\n",
    "    state +=1"
   ]
  },
  {
   "cell_type": "code",
   "execution_count": 3,
   "metadata": {},
   "outputs": [],
   "source": [
    "data = []\n",
    "X=[]\n",
    "y=[]\n",
    "for i in dataset:\n",
    "    data.append(i[0])\n",
    "\n",
    "for i in data:\n",
    "    X.append(i[0])\n",
    "    y.append(i[1])"
   ]
  },
  {
   "cell_type": "code",
   "execution_count": 12,
   "metadata": {},
   "outputs": [
    {
     "data": {
      "text/plain": [
       "array([-0.00219944, -0.0018706 , -0.00154175, ...,  0.00963905,\n",
       "        0.0093102 ,  0.00898136])"
      ]
     },
     "execution_count": 12,
     "metadata": {},
     "output_type": "execute_result"
    }
   ],
   "source": [
    "dataset[0][0][0] ##Channel_1 amostra 0"
   ]
  },
  {
   "cell_type": "markdown",
   "metadata": {},
   "source": [
    "##### Visualização dos sinais"
   ]
  },
  {
   "cell_type": "code",
   "execution_count": 13,
   "metadata": {},
   "outputs": [
    {
     "data": {
      "image/png": "[encoded data removed]",
      "text/plain": [
       "<Figure size 432x288 with 1 Axes>"
      ]
     },
     "metadata": {
      "needs_background": "light"
     },
     "output_type": "display_data"
    }
   ],
   "source": [
    "# Create a new figure for each element\n",
    "plt.figure()\n",
    "\n",
    "# Plot the data\n",
    "plt.plot(dataset[0][0][0], marker='o', linestyle='-', label=f'Element')\n",
    "plt.rcParams['agg.path.chunksize'] = 10000\n",
    "\n",
    "# Customize plot (add title, labels, legend, etc. as needed)\n",
    "plt.title(f'Accelerometer')\n",
    "plt.xlabel('Channel_1')\n",
    "plt.legend()\n",
    "\n",
    "# Show or save the figure\n",
    "# plt.show()  # Uncomment this line to display figures interactively\n",
    "# plt.savefig(f'element_{idx + 1}_plot.png')  # Save figures to files\n",
    "\n",
    "# Show the plots (if not saving to files)\n",
    "plt.savefig('teste.png')\n"
   ]
  },
  {
   "cell_type": "markdown",
   "metadata": {},
   "source": [
    "### Tratamento dos dados em vetores de entrada"
   ]
  },
  {
   "cell_type": "markdown",
   "metadata": {},
   "source": [
    "### Aplicação de técnicas de processamento de sinais - Cálculos estatísticos"
   ]
  },
  {
   "cell_type": "markdown",
   "metadata": {},
   "source": [
    "--------------------------------------------------------"
   ]
  },
  {
   "cell_type": "markdown",
   "metadata": {},
   "source": [
    "#### Time-Domain Features"
   ]
  },
  {
   "cell_type": "markdown",
   "metadata": {},
   "source": [
    "##### Skewness"
   ]
  },
  {
   "cell_type": "code",
   "execution_count": 14,
   "metadata": {},
   "outputs": [],
   "source": [
    "from scipy.stats import skew\n",
    "\n",
    "def get_skewness(signal):\n",
    "    return skew(signal)"
   ]
  },
  {
   "cell_type": "markdown",
   "metadata": {},
   "source": [
    "##### Kurtosis"
   ]
  },
  {
   "cell_type": "code",
   "execution_count": 15,
   "metadata": {},
   "outputs": [],
   "source": [
    "from scipy.stats import kurtosis\n",
    "\n",
    "def get_kurtosis(signal):\n",
    "    return kurtosis(signal)"
   ]
  },
  {
   "cell_type": "markdown",
   "metadata": {},
   "source": [
    "##### Shape Factor"
   ]
  },
  {
   "cell_type": "code",
   "execution_count": 16,
   "metadata": {},
   "outputs": [],
   "source": [
    "def get_shape_factor(signal):\n",
    "    N = len(signal)\n",
    "    return np.sqrt(((signal**2).sum()/N) / ((abs(signal)).sum()/N))"
   ]
  },
  {
   "cell_type": "markdown",
   "metadata": {},
   "source": [
    "##### Variation"
   ]
  },
  {
   "cell_type": "code",
   "execution_count": 17,
   "metadata": {},
   "outputs": [],
   "source": [
    "import statistics\n",
    "\n",
    "def get_variance(signal):\n",
    "    return statistics.variance(signal)"
   ]
  },
  {
   "cell_type": "markdown",
   "metadata": {},
   "source": [
    "##### Standard Deviation"
   ]
  },
  {
   "cell_type": "code",
   "execution_count": 18,
   "metadata": {},
   "outputs": [],
   "source": [
    "def get_std(signal):\n",
    "    return statistics.stdev(signal)"
   ]
  },
  {
   "cell_type": "markdown",
   "metadata": {},
   "source": [
    "##### RMS"
   ]
  },
  {
   "cell_type": "code",
   "execution_count": 19,
   "metadata": {},
   "outputs": [],
   "source": [
    "def get_rms_acceleration(signal):\n",
    "    N = len(signal)\n",
    "    return np.sqrt(1/N * (signal**2).sum())"
   ]
  },
  {
   "cell_type": "markdown",
   "metadata": {},
   "source": [
    "##### Peak-to-Peak"
   ]
  },
  {
   "cell_type": "code",
   "execution_count": 20,
   "metadata": {},
   "outputs": [],
   "source": [
    "def get_peak_acceleration(signal):\n",
    "    return max(abs(signal))"
   ]
  },
  {
   "cell_type": "markdown",
   "metadata": {},
   "source": [
    "##### Crest Factor"
   ]
  },
  {
   "cell_type": "code",
   "execution_count": 21,
   "metadata": {},
   "outputs": [],
   "source": [
    "def get_crest_factor(signal):\n",
    "    return get_peak_acceleration(signal)/get_rms_acceleration(signal)"
   ]
  },
  {
   "cell_type": "markdown",
   "metadata": {},
   "source": [
    "-----------------------------------------------------------------------------------"
   ]
  },
  {
   "cell_type": "markdown",
   "metadata": {},
   "source": [
    "#### Frequency-Domain Features"
   ]
  },
  {
   "cell_type": "code",
   "execution_count": 22,
   "metadata": {},
   "outputs": [],
   "source": [
    "def get_frequency_centre(signal):\n",
    "    return ((signal.diff()*signal).sum()) / (2 * np.pi * np.sum(signal**2))\n",
    "def get_mean_square_frequency(signal):\n",
    "    return  np.sum(signal.diff()**2) / (4 * np.pi**2 * np.sum(signal**2))\n",
    "def get_root_mean_square_frequency(signal):\n",
    "    return  np.sqrt(get_mean_square_frequency(signal))\n",
    "def get_root_variance_frequency(signal):\n",
    "    return  np.sqrt(get_mean_square_frequency(signal) - get_frequency_centre(signal)**2)"
   ]
  },
  {
   "cell_type": "markdown",
   "metadata": {},
   "source": [
    "------------------------------------------------------------------------------------"
   ]
  },
  {
   "cell_type": "markdown",
   "metadata": {},
   "source": [
    "#### Time-Frequency Domain"
   ]
  },
  {
   "cell_type": "markdown",
   "metadata": {},
   "source": []
  },
  {
   "cell_type": "markdown",
   "metadata": {},
   "source": [
    "##### Estimate power spectral density using Welch’s method.\n"
   ]
  },
  {
   "cell_type": "markdown",
   "metadata": {},
   "source": [
    "##### Power Spectral Density (PSD)"
   ]
  },
  {
   "cell_type": "markdown",
   "metadata": {},
   "source": [
    "##### Função de Densidade de Probabilidade (PDF). - cálculo de skewness e kurtosis"
   ]
  },
  {
   "cell_type": "markdown",
   "metadata": {},
   "source": [
    "---------------------------------------------------------------------------------------"
   ]
  },
  {
   "cell_type": "code",
   "execution_count": 23,
   "metadata": {},
   "outputs": [
    {
     "data": {
      "text/plain": [
       "[<function __main__.get_skewness(signal)>,\n",
       " <function __main__.get_kurtosis(signal)>]"
      ]
     },
     "execution_count": 23,
     "metadata": {},
     "output_type": "execute_result"
    }
   ],
   "source": [
    "features_function = [get_skewness, get_kurtosis, get_shape_factor, get_variance, get_std, get_rms_acceleration, \n",
    "                          get_peak_acceleration,\n",
    "                          get_crest_factor, get_frequency_centre, get_mean_square_frequency, get_root_mean_square_frequency, \n",
    "                          get_root_variance_frequency]\n",
    "\n",
    "list_features_function = features_function[0:2]\n",
    "\n",
    "list_features_function"
   ]
  },
  {
   "cell_type": "code",
   "execution_count": null,
   "metadata": {},
   "outputs": [],
   "source": [
    "from itertools import combinations\n",
    "\n",
    "features_function = [get_skewness, get_kurtosis, get_shape_factor, get_variance, get_std, get_rms_acceleration,\n",
    "                     get_peak_acceleration, get_crest_factor, get_frequency_centre, get_mean_square_frequency,\n",
    "                     get_root_mean_square_frequency, get_root_variance_frequency]\n",
    "\n",
    "list_features_function = []\n",
    "\n",
    "# Iterate over different sizes of combinations\n",
    "for r in range(1, len(features_function) + 1):\n",
    "    # Generate all combinations of size r\n",
    "    combinations_r = combinations(features_function, r)\n",
    "    \n",
    "    # Extend the list with each combination\n",
    "    list_features_function.extend(combinations_r)\n",
    "\n",
    "# Convert combinations to lists for printing\n",
    "list_features_function = [list(combination) for combination in list_features_function]\n",
    "\n",
    "# Print all combinations\n",
    "# Print all combinations with indices\n",
    "for index, combination in enumerate(list_features_function):\n",
    "    print(f\"Index {index}: {combination}\")\n",
    "    for i in combination:\n",
    "        print(type(i))"
   ]
  },
  {
   "cell_type": "code",
   "execution_count": 43,
   "metadata": {},
   "outputs": [],
   "source": [
    "experiments_ids = list(range(0,len(dataset)))"
   ]
  },
  {
   "cell_type": "code",
   "execution_count": 48,
   "metadata": {},
   "outputs": [],
   "source": [
    "data_features = []\n",
    "i = 0\n",
    "for exp in experiments_ids:\n",
    "    experiment = dataset[exp][0][0]\n",
    "    feature_accelerometer = []\n",
    "\n",
    "    for func in list_features_function:\n",
    "        \n",
    "        accelerometer = func(dataset[exp][0][0])\n",
    "\n",
    "        if type(accelerometer) == list:\n",
    "            feature_accelerometer+=accelerometer\n",
    "            \n",
    "        else:\n",
    "            feature_accelerometer.append(accelerometer)\n",
    "\n",
    "    \n",
    "    data_features.append([feature_accelerometer, [dataset[exp][0][1]]])"
   ]
  },
  {
   "cell_type": "code",
   "execution_count": 49,
   "metadata": {},
   "outputs": [
    {
     "data": {
      "text/plain": [
       "[[[-0.3247502665593914, 2.3860082424314744], [0]],\n",
       " [[-0.22270423383773993, 1.975918568689493], [0]],\n",
       " [[-0.24821756150055013, 1.9070564415035243], [0]],\n",
       " [[-0.21434362577221266, 1.8158709532260078], [0]],\n",
       " [[-0.3508962723053165, 3.116740752323258], [0]],\n",
       " [[-0.16757820063720164, 1.768749762777098], [0]],\n",
       " [[-0.24321568568150195, 1.8568369164134468], [0]],\n",
       " [[-0.29164404329421695, 2.1617584719324414], [0]],\n",
       " [[-0.26069383067454066, 1.9663794391280431], [0]],\n",
       " [[-0.34223142257337125, 2.577095776917435], [0]],\n",
       " [[-0.350480640808828, 2.6892014209362385], [0]],\n",
       " [[-0.03419698320543154, 1.542158209642623], [0]],\n",
       " [[-0.8129696489248369, 11.676261178472107], [1]],\n",
       " [[-0.18811017149745735, 20.262286538238204], [1]],\n",
       " [[-0.057630122406355976, 16.900262173738604], [1]],\n",
       " [[-0.14315521462882835, 24.948527212742807], [1]],\n",
       " [[-0.12711404482039534, 20.456040661004824], [1]],\n",
       " [[-0.1111007996460284, 23.681811633786516], [1]],\n",
       " [[-0.08968942199295063, 18.634512269975367], [1]],\n",
       " [[-0.08091848160015552, 18.14555648156494], [1]],\n",
       " [[-0.03867784146640076, 14.731361438340649], [1]],\n",
       " [[-0.044962384252066424, 23.258901789061767], [1]],\n",
       " [[-0.0823330528314501, 19.67461942968449], [1]],\n",
       " [[-0.06645163293813888, 19.455473888879467], [1]],\n",
       " [[-0.04581591385760819, 2.9840987558505194], [2]],\n",
       " [[-0.10994703026621055, 3.4053988377709343], [2]],\n",
       " [[-0.060058210245797626, 3.7296122814177437], [2]],\n",
       " [[-0.17929391606821668, 3.774305599389111], [2]],\n",
       " [[-0.17695428944723732, 3.9685778379594066], [2]],\n",
       " [[-0.20035957804105187, 4.006276375354912], [2]],\n",
       " [[-0.17388870164537368, 3.287373917252282], [2]],\n",
       " [[-0.07171614576719941, 3.160703366723327], [2]],\n",
       " [[-0.08308591139171038, 3.4094498515727727], [2]],\n",
       " [[-0.042988340088655916, 2.975438393066346], [2]],\n",
       " [[-0.11242457534795897, 2.985251877372825], [2]],\n",
       " [[-0.10634012675251722, 3.2980590695409573], [2]]]"
      ]
     },
     "execution_count": 49,
     "metadata": {},
     "output_type": "execute_result"
    }
   ],
   "source": [
    "data_features"
   ]
  },
  {
   "cell_type": "code",
   "execution_count": 51,
   "metadata": {},
   "outputs": [
    {
     "data": {
      "text/plain": [
       "array([[-0.32475027,  2.38600824,  0.        ],\n",
       "       [-0.22270423,  1.97591857,  0.        ],\n",
       "       [-0.24821756,  1.90705644,  0.        ],\n",
       "       [-0.21434363,  1.81587095,  0.        ],\n",
       "       [-0.35089627,  3.11674075,  0.        ],\n",
       "       [-0.1675782 ,  1.76874976,  0.        ],\n",
       "       [-0.24321569,  1.85683692,  0.        ],\n",
       "       [-0.29164404,  2.16175847,  0.        ],\n",
       "       [-0.26069383,  1.96637944,  0.        ],\n",
       "       [-0.34223142,  2.57709578,  0.        ],\n",
       "       [-0.35048064,  2.68920142,  0.        ],\n",
       "       [-0.03419698,  1.54215821,  0.        ],\n",
       "       [-0.81296965, 11.67626118,  1.        ],\n",
       "       [-0.18811017, 20.26228654,  1.        ],\n",
       "       [-0.05763012, 16.90026217,  1.        ],\n",
       "       [-0.14315521, 24.94852721,  1.        ],\n",
       "       [-0.12711404, 20.45604066,  1.        ],\n",
       "       [-0.1111008 , 23.68181163,  1.        ],\n",
       "       [-0.08968942, 18.63451227,  1.        ],\n",
       "       [-0.08091848, 18.14555648,  1.        ],\n",
       "       [-0.03867784, 14.73136144,  1.        ],\n",
       "       [-0.04496238, 23.25890179,  1.        ],\n",
       "       [-0.08233305, 19.67461943,  1.        ],\n",
       "       [-0.06645163, 19.45547389,  1.        ],\n",
       "       [-0.04581591,  2.98409876,  2.        ],\n",
       "       [-0.10994703,  3.40539884,  2.        ],\n",
       "       [-0.06005821,  3.72961228,  2.        ],\n",
       "       [-0.17929392,  3.7743056 ,  2.        ],\n",
       "       [-0.17695429,  3.96857784,  2.        ],\n",
       "       [-0.20035958,  4.00627638,  2.        ],\n",
       "       [-0.1738887 ,  3.28737392,  2.        ],\n",
       "       [-0.07171615,  3.16070337,  2.        ],\n",
       "       [-0.08308591,  3.40944985,  2.        ],\n",
       "       [-0.04298834,  2.97543839,  2.        ],\n",
       "       [-0.11242458,  2.98525188,  2.        ],\n",
       "       [-0.10634013,  3.29805907,  2.        ]])"
      ]
     },
     "execution_count": 51,
     "metadata": {},
     "output_type": "execute_result"
    }
   ],
   "source": [
    "features_list = list()\n",
    "\n",
    "for i in data_features:\n",
    "    y = np.concatenate([np.array(x) for x in i])\n",
    "    features_list.append(y)\n",
    "\n",
    "features_list = np.array(features_list)\n",
    "features_list"
   ]
  },
  {
   "cell_type": "code",
   "execution_count": 57,
   "metadata": {},
   "outputs": [],
   "source": [
    "X = features_list[:,0:2]\n",
    "y = features_list[:,-1]"
   ]
  },
  {
   "cell_type": "markdown",
   "metadata": {},
   "source": [
    "### Aplicação de técnicas de inteligência artificial"
   ]
  },
  {
   "cell_type": "code",
   "execution_count": 58,
   "metadata": {},
   "outputs": [
    {
     "name": "stdout",
     "output_type": "stream",
     "text": [
      "Validation Results:\n",
      "Accuracy: 0.8\n",
      "Classification Report:\n",
      "               precision    recall  f1-score   support\n",
      "\n",
      "         0.0       0.50      1.00      0.67         1\n",
      "         1.0       1.00      0.67      0.80         3\n",
      "         2.0       1.00      1.00      1.00         1\n",
      "\n",
      "    accuracy                           0.80         5\n",
      "   macro avg       0.83      0.89      0.82         5\n",
      "weighted avg       0.90      0.80      0.81         5\n",
      "\n",
      "\n",
      "Testing Results:\n",
      "Accuracy: 1.0\n",
      "Classification Report:\n",
      "               precision    recall  f1-score   support\n",
      "\n",
      "         0.0       1.00      1.00      1.00         1\n",
      "         1.0       1.00      1.00      1.00         2\n",
      "         2.0       1.00      1.00      1.00         3\n",
      "\n",
      "    accuracy                           1.00         6\n",
      "   macro avg       1.00      1.00      1.00         6\n",
      "weighted avg       1.00      1.00      1.00         6\n",
      "\n"
     ]
    }
   ],
   "source": [
    "## MLP (classificacao) - supervised\n",
    "from sklearn.neural_network import MLPClassifier\n",
    "from sklearn.model_selection import train_test_split\n",
    "from sklearn.metrics import accuracy_score, classification_report\n",
    "from sklearn.datasets import load_iris\n",
    "from sklearn.preprocessing import StandardScaler\n",
    "\n",
    "# Split the data into training, validation, and testing sets\n",
    "X_train, X_temp, y_train, y_temp = train_test_split(X, y, test_size=0.3, random_state=42)\n",
    "X_val, X_test, y_val, y_test = train_test_split(X_temp, y_temp, test_size=0.5, random_state=42)\n",
    "\n",
    "# Standardize the features (important for neural networks)\n",
    "scaler = StandardScaler()\n",
    "X_train = scaler.fit_transform(X_train)\n",
    "X_val = scaler.transform(X_val)\n",
    "X_test = scaler.transform(X_test)\n",
    "\n",
    "# Create an MLP classifier\n",
    "mlp_classifier = MLPClassifier(hidden_layer_sizes=(10,30,30,10), max_iter=1000, random_state=42)\n",
    "\n",
    "# Fit the classifier to the training data\n",
    "mlp_classifier.fit(X_train, y_train)\n",
    "\n",
    "# Make predictions on the validation data\n",
    "y_val_pred = mlp_classifier.predict(X_val)\n",
    "\n",
    "# Evaluate the model on the validation set\n",
    "val_accuracy = accuracy_score(y_val, y_val_pred)\n",
    "val_classification_rep = classification_report(y_val, y_val_pred)\n",
    "\n",
    "# Print the validation results\n",
    "print(\"Validation Results:\")\n",
    "print(f\"Accuracy: {val_accuracy}\")\n",
    "print(\"Classification Report:\\n\", val_classification_rep)\n",
    "\n",
    "# Make predictions on the testing data\n",
    "y_test_pred = mlp_classifier.predict(X_test)\n",
    "\n",
    "# Evaluate the model on the testing set\n",
    "test_accuracy = accuracy_score(y_test, y_test_pred)\n",
    "test_classification_rep = classification_report(y_test, y_test_pred)\n",
    "\n",
    "# Print the testing results\n",
    "print(\"\\nTesting Results:\")\n",
    "print(f\"Accuracy: {test_accuracy}\")\n",
    "print(\"Classification Report:\\n\", test_classification_rep)"
   ]
  },
  {
   "cell_type": "code",
   "execution_count": null,
   "metadata": {},
   "outputs": [],
   "source": [
    "## SVM (classificacao) - supervised"
   ]
  },
  {
   "cell_type": "code",
   "execution_count": null,
   "metadata": {},
   "outputs": [],
   "source": [
    "## LVQ (rotulacao) - supervised"
   ]
  }
 ],
 "metadata": {
  "kernelspec": {
   "display_name": "Python 3",
   "language": "python",
   "name": "python3"
  },
  "language_info": {
   "codemirror_mode": {
    "name": "ipython",
    "version": 3
   },
   "file_extension": ".py",
   "mimetype": "text/x-python",
   "name": "python",
   "nbconvert_exporter": "python",
   "pygments_lexer": "ipython3",
   "version": "3.9.5"
  }
 },
 "nbformat": 4,
 "nbformat_minor": 2
}
