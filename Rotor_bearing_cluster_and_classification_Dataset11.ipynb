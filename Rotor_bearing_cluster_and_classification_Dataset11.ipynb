{
 "cells": [
  {
   "cell_type": "markdown",
   "metadata": {},
   "source": [
    "## Banco de dados DATASET11 - Bearing Classification"
   ]
  },
  {
   "cell_type": "markdown",
   "metadata": {},
   "source": [
    "### Importação de Bibliotecas"
   ]
  },
  {
   "cell_type": "code",
   "execution_count": 2,
   "metadata": {},
   "outputs": [],
   "source": [
    "import pandas as pd\n",
    "import numpy as np\n",
    "import matplotlib.pyplot as plt\n",
    "import scipy\n",
    "from scipy.signal import iirnotch\n",
    "import scipy.io\n"
   ]
  },
  {
   "cell_type": "markdown",
   "metadata": {},
   "source": [
    "### Carregamento de arquivos"
   ]
  },
  {
   "cell_type": "code",
   "execution_count": 54,
   "metadata": {},
   "outputs": [],
   "source": [
    "\n",
    "letters = ['H', 'I', 'O'] # 0-healthy, I-inner fault, O-outer fault\n",
    "speeds = ['A', 'B', 'C', 'D']\n",
    "trials = ['1','2', '3']\n",
    "state = 0\n",
    "dataset = []\n",
    "for letter in letters:\n",
    "    for speed in speeds:\n",
    "        for trial in trials:\n",
    "            path_signal = f'../../Dados/Rotor_Bearing/Dataset11/Data/{letter}-{speed}-{trial}.mat'\n",
    "            df_signal = scipy.io.loadmat(path_signal)\n",
    "            signal = []\n",
    "            for i in range(0,len(df_signal['Channel_1'])):\n",
    "                sample = [df_signal['Channel_1'][i][0], df_signal['Channel_2'][i][0]]\n",
    "                signal.append(sample)\n",
    "            signal.append(state)\n",
    "        dataset.append(signal)\n",
    "    state +=1"
   ]
  },
  {
   "cell_type": "code",
   "execution_count": null,
   "metadata": {},
   "outputs": [],
   "source": [
    "## parei aqui\n",
    "for i in dataset:\n",
    "    print(i)"
   ]
  },
  {
   "cell_type": "code",
   "execution_count": 59,
   "metadata": {},
   "outputs": [],
   "source": [
    "import numpy as np\n",
    "\n",
    "# Example boolean array (True for correct, False for incorrect)\n",
    "correctness_array = np.array([True, True, False, True, False, True])\n",
    "\n",
    "# Calculate accuracy as a percentage\n",
    "accuracy_percentage = np.mean(correctness_array) * 100\n",
    "\n",
    "# Print the result\n",
    "print(f'Accuracy: {accuracy_percentage:.2f}%')"
   ]
  },
  {
   "cell_type": "markdown",
   "metadata": {},
   "source": [
    "##### Visualização dos sinais"
   ]
  },
  {
   "cell_type": "code",
   "execution_count": 35,
   "metadata": {},
   "outputs": [
    {
     "ename": "TypeError",
     "evalue": "list indices must be integers or slices, not tuple",
     "output_type": "error",
     "traceback": [
      "\u001b[1;31m---------------------------------------------------------------------------\u001b[0m",
      "\u001b[1;31mTypeError\u001b[0m                                 Traceback (most recent call last)",
      "\u001b[1;32m~\\AppData\\Local\\Temp/ipykernel_6968/993215707.py\u001b[0m in \u001b[0;36m<module>\u001b[1;34m\u001b[0m\n\u001b[0;32m      5\u001b[0m \u001b[1;33m\u001b[0m\u001b[0m\n\u001b[0;32m      6\u001b[0m \u001b[1;31m# Iterate through each element in the dataset\u001b[0m\u001b[1;33m\u001b[0m\u001b[1;33m\u001b[0m\u001b[1;33m\u001b[0m\u001b[0m\n\u001b[1;32m----> 7\u001b[1;33m \u001b[1;32mfor\u001b[0m \u001b[0melement\u001b[0m \u001b[1;32min\u001b[0m \u001b[0mdataset\u001b[0m\u001b[1;33m[\u001b[0m\u001b[1;33m:\u001b[0m\u001b[1;33m,\u001b[0m\u001b[1;36m0\u001b[0m\u001b[1;33m]\u001b[0m\u001b[1;33m:\u001b[0m\u001b[1;33m\u001b[0m\u001b[1;33m\u001b[0m\u001b[0m\n\u001b[0m\u001b[0;32m      8\u001b[0m     \u001b[1;31m# Extract 'Channel_1' and 'Channel_2' arrays\u001b[0m\u001b[1;33m\u001b[0m\u001b[1;33m\u001b[0m\u001b[1;33m\u001b[0m\u001b[0m\n\u001b[0;32m      9\u001b[0m     \u001b[0mchannel_1_data\u001b[0m \u001b[1;33m=\u001b[0m \u001b[0melement\u001b[0m\u001b[1;33m[\u001b[0m\u001b[1;36m0\u001b[0m\u001b[1;33m]\u001b[0m\u001b[1;33m\u001b[0m\u001b[1;33m\u001b[0m\u001b[0m\n",
      "\u001b[1;31mTypeError\u001b[0m: list indices must be integers or slices, not tuple"
     ]
    }
   ],
   "source": [
    "import matplotlib.pyplot as plt\n",
    "import numpy as np\n",
    "\n",
    "# Example dataset (replace this with your actual dataset)\n",
    "\n",
    "# Iterate through each element in the dataset\n",
    "for element in dataset:\n",
    "    # Extract 'Channel_1' and 'Channel_2' arrays\n",
    "    channel_1_data = element[0]\n",
    "    channel_2_data = element[1]\n",
    "\n",
    "    # Create a new figure for each element\n",
    "    plt.figure()\n",
    "\n",
    "    # Plot the data\n",
    "    plt.plot(channel_2_data, channel_1_data, marker='o', linestyle='-', label=f'Element')\n",
    "\n",
    "    # Customize plot (add title, labels, legend, etc. as needed)\n",
    "    # plt.title(f'Element {idx + 1} Plot')\n",
    "    plt.xlabel('Channel_2')\n",
    "    plt.ylabel('Channel_1')\n",
    "    plt.legend()\n",
    "\n",
    "    # Show or save the figure\n",
    "    # plt.show()  # Uncomment this line to display figures interactively\n",
    "    # plt.savefig(f'element_{idx + 1}_plot.png')  # Save figures to files\n",
    "\n",
    "# Show the plots (if not saving to files)\n",
    "plt.show()\n"
   ]
  },
  {
   "cell_type": "markdown",
   "metadata": {},
   "source": [
    "### Tratamento dos dados em vetores de entrada"
   ]
  },
  {
   "cell_type": "markdown",
   "metadata": {},
   "source": [
    "### Aplicação de técnicas de processamento de sinais - Cálculos estatísticos"
   ]
  },
  {
   "cell_type": "code",
   "execution_count": null,
   "metadata": {},
   "outputs": [],
   "source": []
  },
  {
   "cell_type": "markdown",
   "metadata": {},
   "source": [
    "### Aplicação de técnicas de inteligência artificial"
   ]
  },
  {
   "cell_type": "code",
   "execution_count": null,
   "metadata": {},
   "outputs": [],
   "source": [
    "## Kohonen Map (clusterizacao)\n",
    "\n",
    "## MLP (classificacao)\n",
    "\n",
    "## LVQ (rotulacao)"
   ]
  },
  {
   "cell_type": "markdown",
   "metadata": {},
   "source": [
    "### Gráficos - Apresentação dos resultados"
   ]
  },
  {
   "cell_type": "markdown",
   "metadata": {},
   "source": []
  },
  {
   "cell_type": "markdown",
   "metadata": {},
   "source": [
    "#### CHATGPT HELP\n"
   ]
  }
 ],
 "metadata": {
  "kernelspec": {
   "display_name": "Python 3",
   "language": "python",
   "name": "python3"
  },
  "language_info": {
   "codemirror_mode": {
    "name": "ipython",
    "version": 3
   },
   "file_extension": ".py",
   "mimetype": "text/x-python",
   "name": "python",
   "nbconvert_exporter": "python",
   "pygments_lexer": "ipython3",
   "version": "3.9.5"
  }
 },
 "nbformat": 4,
 "nbformat_minor": 2
}
