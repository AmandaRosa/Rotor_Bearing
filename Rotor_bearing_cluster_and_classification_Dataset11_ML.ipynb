{
 "cells": [
  {
   "cell_type": "markdown",
   "metadata": {},
   "source": [
    "## Banco de dados DATASET11 - Bearing Classification"
   ]
  },
  {
   "cell_type": "markdown",
   "metadata": {},
   "source": [
    "### Importação de Bibliotecas"
   ]
  },
  {
   "cell_type": "code",
   "execution_count": 3,
   "metadata": {},
   "outputs": [],
   "source": [
    "from matplotlib.colors import ListedColormap\n",
    "from matplotlib.lines import Line2D\n",
    "import matplotlib.pyplot as plt\n",
    "import pandas as pd\n",
    "import numpy as np\n",
    "import matplotlib.pyplot as plt\n",
    "import scipy\n",
    "from scipy.signal import iirnotch\n",
    "import scipy.io"
   ]
  },
  {
   "cell_type": "markdown",
   "metadata": {},
   "source": [
    "### Carregamento de arquivos"
   ]
  },
  {
   "cell_type": "code",
   "execution_count": 4,
   "metadata": {},
   "outputs": [],
   "source": [
    "\n",
    "letters = ['H', 'I', 'O'] # 0-healthy, I-inner fault, O-outer fault\n",
    "# letters = ['H']\n",
    "speeds = ['A', 'B', 'C', 'D']\n",
    "# speeds = ['A']\n",
    "trials = ['1','2', '3']\n",
    "# trials = ['1']\n",
    "state = 0\n",
    "dataset = []\n",
    "for letter in letters:\n",
    "    for speed in speeds:\n",
    "        for trial in trials:\n",
    "            path_signal = f'../../Dados/Rotor_Bearing/Dataset11/Data/{letter}-{speed}-{trial}.mat'\n",
    "            df_signal = scipy.io.loadmat(path_signal)\n",
    "            channel_1 = df_signal['Channel_1'].flatten()\n",
    "            # channel_2 = df_signal['Channel_2'].flatten()\n",
    "            signal = []\n",
    "            signal.append([channel_1, state])\n",
    "            dataset.append(signal)\n",
    "    state +=1"
   ]
  },
  {
   "cell_type": "markdown",
   "metadata": {},
   "source": [
    "### Tratamento dos dados em vetores de entrada"
   ]
  },
  {
   "cell_type": "code",
   "execution_count": 5,
   "metadata": {},
   "outputs": [],
   "source": [
    "data = []\n",
    "X=[]\n",
    "y=[]\n",
    "for i in dataset:\n",
    "    data.append(i[0])\n",
    "\n",
    "for i in data:\n",
    "    X.append(i[0])\n",
    "    y.append(i[1])"
   ]
  },
  {
   "cell_type": "markdown",
   "metadata": {},
   "source": [
    "### Aplicação de técnicas de processamento de sinais - Cálculos estatísticos"
   ]
  },
  {
   "cell_type": "markdown",
   "metadata": {},
   "source": [
    "--------------------------------------------------------"
   ]
  },
  {
   "cell_type": "markdown",
   "metadata": {},
   "source": [
    "#### Time-Domain Features"
   ]
  },
  {
   "cell_type": "markdown",
   "metadata": {},
   "source": [
    "##### Skewness"
   ]
  },
  {
   "cell_type": "code",
   "execution_count": 6,
   "metadata": {},
   "outputs": [],
   "source": [
    "from scipy.stats import skew\n",
    "\n",
    "def get_skewness(signal):\n",
    "    return skew(signal)"
   ]
  },
  {
   "cell_type": "markdown",
   "metadata": {},
   "source": [
    "##### Kurtosis"
   ]
  },
  {
   "cell_type": "code",
   "execution_count": 7,
   "metadata": {},
   "outputs": [],
   "source": [
    "from scipy.stats import kurtosis\n",
    "\n",
    "def get_kurtosis(signal):\n",
    "    return kurtosis(signal)"
   ]
  },
  {
   "cell_type": "markdown",
   "metadata": {},
   "source": [
    "##### Shape Factor"
   ]
  },
  {
   "cell_type": "code",
   "execution_count": 8,
   "metadata": {},
   "outputs": [],
   "source": [
    "def get_shape_factor(signal):\n",
    "    N = len(signal)\n",
    "    return np.sqrt(((signal**2).sum()/N) / ((abs(signal)).sum()/N))"
   ]
  },
  {
   "cell_type": "markdown",
   "metadata": {},
   "source": [
    "##### Variation"
   ]
  },
  {
   "cell_type": "code",
   "execution_count": 9,
   "metadata": {},
   "outputs": [],
   "source": [
    "import statistics\n",
    "\n",
    "def get_variance(signal):\n",
    "    return statistics.variance(signal)"
   ]
  },
  {
   "cell_type": "markdown",
   "metadata": {},
   "source": [
    "##### Standard Deviation"
   ]
  },
  {
   "cell_type": "code",
   "execution_count": 10,
   "metadata": {},
   "outputs": [],
   "source": [
    "def get_std(signal):\n",
    "    return statistics.stdev(signal)"
   ]
  },
  {
   "cell_type": "markdown",
   "metadata": {},
   "source": [
    "##### RMS"
   ]
  },
  {
   "cell_type": "code",
   "execution_count": 11,
   "metadata": {},
   "outputs": [],
   "source": [
    "def get_rms_acceleration(signal):\n",
    "    N = len(signal)\n",
    "    return np.sqrt(1/N * (signal**2).sum())"
   ]
  },
  {
   "cell_type": "markdown",
   "metadata": {},
   "source": [
    "##### Peak-to-Peak"
   ]
  },
  {
   "cell_type": "code",
   "execution_count": 12,
   "metadata": {},
   "outputs": [],
   "source": [
    "def get_peak_acceleration(signal):\n",
    "    return max(abs(signal))"
   ]
  },
  {
   "cell_type": "markdown",
   "metadata": {},
   "source": [
    "##### Crest Factor"
   ]
  },
  {
   "cell_type": "code",
   "execution_count": 13,
   "metadata": {},
   "outputs": [],
   "source": [
    "def get_crest_factor(signal):\n",
    "    return get_peak_acceleration(signal)/get_rms_acceleration(signal)"
   ]
  },
  {
   "cell_type": "markdown",
   "metadata": {},
   "source": [
    "-----------------------------------------------------------------------------------"
   ]
  },
  {
   "cell_type": "markdown",
   "metadata": {},
   "source": [
    "#### Frequency-Domain Features"
   ]
  },
  {
   "cell_type": "code",
   "execution_count": 14,
   "metadata": {},
   "outputs": [],
   "source": [
    "def get_frequency_centre(signal):\n",
    "    return ((signal.diff()*signal).sum()) / (2 * np.pi * np.sum(signal**2))\n",
    "def get_mean_square_frequency(signal):\n",
    "    return  np.sum(signal.diff()**2) / (4 * np.pi**2 * np.sum(signal**2))\n",
    "def get_root_mean_square_frequency(signal):\n",
    "    return  np.sqrt(get_mean_square_frequency(signal))\n",
    "def get_root_variance_frequency(signal):\n",
    "    return  np.sqrt(get_mean_square_frequency(signal) - get_frequency_centre(signal)**2)"
   ]
  },
  {
   "cell_type": "markdown",
   "metadata": {},
   "source": [
    "------------------------------------------------------------------------------------"
   ]
  },
  {
   "cell_type": "markdown",
   "metadata": {},
   "source": [
    "#### Time-Frequency Domain"
   ]
  },
  {
   "cell_type": "markdown",
   "metadata": {},
   "source": []
  },
  {
   "cell_type": "markdown",
   "metadata": {},
   "source": [
    "##### Estimate power spectral density using Welch’s method.\n"
   ]
  },
  {
   "cell_type": "markdown",
   "metadata": {},
   "source": [
    "##### Power Spectral Density (PSD)"
   ]
  },
  {
   "cell_type": "markdown",
   "metadata": {},
   "source": [
    "##### Função de Densidade de Probabilidade (PDF). - cálculo de skewness e kurtosis"
   ]
  },
  {
   "cell_type": "markdown",
   "metadata": {},
   "source": [
    "---------------------------------------------------------------------------------------"
   ]
  },
  {
   "cell_type": "code",
   "execution_count": 15,
   "metadata": {},
   "outputs": [
    {
     "data": {
      "text/plain": [
       "[<function __main__.get_skewness(signal)>,\n",
       " <function __main__.get_kurtosis(signal)>,\n",
       " <function __main__.get_shape_factor(signal)>]"
      ]
     },
     "execution_count": 15,
     "metadata": {},
     "output_type": "execute_result"
    }
   ],
   "source": [
    "features_function = [get_skewness, get_kurtosis, get_shape_factor, get_variance, get_std, get_rms_acceleration, \n",
    "                          get_peak_acceleration,\n",
    "                          get_crest_factor, get_frequency_centre, get_mean_square_frequency, get_root_mean_square_frequency, \n",
    "                          get_root_variance_frequency]\n",
    "\n",
    "list_features_function = features_function[0:3]\n",
    "\n",
    "list_features_function"
   ]
  },
  {
   "cell_type": "code",
   "execution_count": 17,
   "metadata": {},
   "outputs": [],
   "source": [
    "experiments_ids = list(range(0,len(dataset)))"
   ]
  },
  {
   "cell_type": "code",
   "execution_count": 18,
   "metadata": {},
   "outputs": [],
   "source": [
    "data_features = []\n",
    "i = 0\n",
    "for exp in experiments_ids:\n",
    "    experiment = dataset[exp][0][0]\n",
    "    feature_accelerometer = []\n",
    "\n",
    "    for func in list_features_function:\n",
    "        \n",
    "        accelerometer = func(dataset[exp][0][0])\n",
    "\n",
    "        if type(accelerometer) == list:\n",
    "            feature_accelerometer+=accelerometer\n",
    "            \n",
    "        else:\n",
    "            feature_accelerometer.append(accelerometer)\n",
    "\n",
    "    \n",
    "    data_features.append([feature_accelerometer, [dataset[exp][0][1]]])"
   ]
  },
  {
   "cell_type": "code",
   "execution_count": 19,
   "metadata": {},
   "outputs": [
    {
     "data": {
      "text/plain": [
       "36"
      ]
     },
     "execution_count": 19,
     "metadata": {},
     "output_type": "execute_result"
    }
   ],
   "source": [
    "features_list = list()\n",
    "\n",
    "for i in data_features:\n",
    "    y = np.concatenate([np.array(x) for x in i])\n",
    "    features_list.append(y)\n",
    "\n",
    "features_list = np.array(features_list)\n",
    "len(features_list[:, 1])"
   ]
  },
  {
   "cell_type": "markdown",
   "metadata": {},
   "source": [
    "### Aplicação de Técnicas de Inteligência Artificial"
   ]
  },
  {
   "cell_type": "markdown",
   "metadata": {},
   "source": [
    "##### MLP"
   ]
  },
  {
   "cell_type": "code",
   "execution_count": 19,
   "metadata": {},
   "outputs": [],
   "source": [
    "from sklearn.neural_network import MLPClassifier\n",
    "from sklearn.model_selection import train_test_split\n",
    "from sklearn.metrics import accuracy_score, classification_report\n",
    "from sklearn.preprocessing import StandardScaler\n",
    "from sklearn.metrics import confusion_matrix, roc_curve, auc\n",
    "import numpy as np\n",
    "import matplotlib.pyplot as plt\n",
    "from sklearn.metrics import roc_curve, auc\n",
    "from sklearn.preprocessing import StandardScaler, label_binarize\n",
    "from sklearn.metrics import accuracy_score, classification_report\n",
    "from sklearn.multiclass import OneVsRestClassifier\n",
    "import numpy as np\n",
    "import matplotlib.pyplot as plt\n",
    "from sklearn.neural_network import MLPClassifier\n",
    "from sklearn.model_selection import train_test_split, cross_val_score, KFold\n",
    "from sklearn.metrics import accuracy_score, classification_report, confusion_matrix, roc_curve, auc\n",
    "from sklearn.preprocessing import StandardScaler, label_binarize\n",
    "from sklearn.multiclass import OneVsRestClassifier"
   ]
  },
  {
   "cell_type": "code",
   "execution_count": 20,
   "metadata": {},
   "outputs": [
    {
     "data": {
      "text/plain": [
       "array([[-0.32475027,  2.38600824,  0.09610514,  0.        ],\n",
       "       [-0.22270423,  1.97591857,  0.10375178,  0.        ],\n",
       "       [-0.24821756,  1.90705644,  0.10232843,  0.        ],\n",
       "       [-0.21434363,  1.81587095,  0.1060322 ,  0.        ],\n",
       "       [-0.35089627,  3.11674075,  0.09865319,  0.        ],\n",
       "       [-0.1675782 ,  1.76874976,  0.10795986,  0.        ],\n",
       "       [-0.24321569,  1.85683692,  0.10375844,  0.        ],\n",
       "       [-0.29164404,  2.16175847,  0.10077444,  0.        ],\n",
       "       [-0.26069383,  1.96637944,  0.10102784,  0.        ],\n",
       "       [-0.34223142,  2.57709578,  0.09832305,  0.        ],\n",
       "       [-0.35048064,  2.68920142,  0.09783274,  0.        ],\n",
       "       [-0.03419698,  1.54215821,  0.12431563,  0.        ],\n",
       "       [-0.81296965, 11.67626118,  0.46821392,  1.        ],\n",
       "       [-0.18811017, 20.26228654,  0.28124766,  1.        ],\n",
       "       [-0.05763012, 16.90026217,  0.28128291,  1.        ],\n",
       "       [-0.14315521, 24.94852721,  0.25537852,  1.        ],\n",
       "       [-0.12711404, 20.45604066,  0.27210837,  1.        ],\n",
       "       [-0.1111008 , 23.68181163,  0.2921817 ,  1.        ],\n",
       "       [-0.08968942, 18.63451227,  0.28604769,  1.        ],\n",
       "       [-0.08091848, 18.14555648,  0.27568858,  1.        ],\n",
       "       [-0.03867784, 14.73136144,  0.24800015,  1.        ],\n",
       "       [-0.04496238, 23.25890179,  0.28036437,  1.        ],\n",
       "       [-0.08233305, 19.67461943,  0.27988755,  1.        ],\n",
       "       [-0.06645163, 19.45547389,  0.27936287,  1.        ],\n",
       "       [-0.04581591,  2.98409876,  0.11407084,  2.        ],\n",
       "       [-0.10994703,  3.40539884,  0.10978359,  2.        ],\n",
       "       [-0.06005821,  3.72961228,  0.11302299,  2.        ],\n",
       "       [-0.17929392,  3.7743056 ,  0.1064786 ,  2.        ],\n",
       "       [-0.17695429,  3.96857784,  0.1062801 ,  2.        ],\n",
       "       [-0.20035958,  4.00627638,  0.10807701,  2.        ],\n",
       "       [-0.1738887 ,  3.28737392,  0.10549075,  2.        ],\n",
       "       [-0.07171615,  3.16070337,  0.11064934,  2.        ],\n",
       "       [-0.08308591,  3.40944985,  0.10886337,  2.        ],\n",
       "       [-0.04298834,  2.97543839,  0.11692537,  2.        ],\n",
       "       [-0.11242458,  2.98525188,  0.10942025,  2.        ],\n",
       "       [-0.10634013,  3.29805907,  0.11078185,  2.        ]])"
      ]
     },
     "execution_count": 20,
     "metadata": {},
     "output_type": "execute_result"
    }
   ],
   "source": [
    "features_list"
   ]
  },
  {
   "cell_type": "code",
   "execution_count": 25,
   "metadata": {},
   "outputs": [
    {
     "name": "stdout",
     "output_type": "stream",
     "text": [
      "\n",
      "Validation Results:\n",
      "Accuracy: 1.0\n",
      "Classification Report:\n",
      "               precision    recall  f1-score   support\n",
      "\n",
      "         0.0       1.00      1.00      1.00         2\n",
      "         1.0       1.00      1.00      1.00         1\n",
      "         2.0       1.00      1.00      1.00         2\n",
      "\n",
      "    accuracy                           1.00         5\n",
      "   macro avg       1.00      1.00      1.00         5\n",
      "weighted avg       1.00      1.00      1.00         5\n",
      "\n",
      "[2. 1. 2. 2. 1. 2. 1. 1. 0. 1. 0.]\n",
      "[2. 1. 2. 2. 1. 2. 1. 0. 0. 1. 0.]\n",
      "\n",
      "Validation Results:\n",
      "Accuracy: 1.0\n",
      "Classification Report:\n",
      "               precision    recall  f1-score   support\n",
      "\n",
      "         0.0       1.00      1.00      1.00         2\n",
      "         1.0       1.00      1.00      1.00         1\n",
      "         2.0       1.00      1.00      1.00         2\n",
      "\n",
      "    accuracy                           1.00         5\n",
      "   macro avg       1.00      1.00      1.00         5\n",
      "weighted avg       1.00      1.00      1.00         5\n",
      "\n",
      "[2. 1. 2. 2. 1. 2. 1. 1. 0. 1. 0.]\n",
      "[2. 1. 2. 2. 1. 2. 1. 0. 0. 1. 0.]\n",
      "\n",
      "Validation Results:\n",
      "Accuracy: 1.0\n",
      "Classification Report:\n",
      "               precision    recall  f1-score   support\n",
      "\n",
      "         0.0       1.00      1.00      1.00         2\n",
      "         1.0       1.00      1.00      1.00         1\n",
      "         2.0       1.00      1.00      1.00         2\n",
      "\n",
      "    accuracy                           1.00         5\n",
      "   macro avg       1.00      1.00      1.00         5\n",
      "weighted avg       1.00      1.00      1.00         5\n",
      "\n",
      "[2. 1. 2. 2. 1. 2. 1. 1. 0. 1. 0.]\n",
      "[2. 1. 2. 2. 1. 2. 1. 0. 0. 1. 0.]\n",
      "\n",
      "Validation Results:\n",
      "Accuracy: 1.0\n",
      "Classification Report:\n",
      "               precision    recall  f1-score   support\n",
      "\n",
      "         0.0       1.00      1.00      1.00         1\n",
      "         1.0       1.00      1.00      1.00         3\n",
      "         2.0       1.00      1.00      1.00         1\n",
      "\n",
      "    accuracy                           1.00         5\n",
      "   macro avg       1.00      1.00      1.00         5\n",
      "weighted avg       1.00      1.00      1.00         5\n",
      "\n",
      "[2. 1. 2. 2. 1. 2. 1. 1. 0. 1. 0.]\n",
      "[2. 1. 2. 2. 1. 2. 1. 0. 0. 1. 0.]\n",
      "\n",
      "Validation Results:\n",
      "Accuracy: 0.6\n",
      "Classification Report:\n",
      "               precision    recall  f1-score   support\n",
      "\n",
      "         0.0       1.00      0.33      0.50         3\n",
      "         1.0       1.00      1.00      1.00         1\n",
      "         2.0       0.33      1.00      0.50         1\n",
      "\n",
      "    accuracy                           0.60         5\n",
      "   macro avg       0.78      0.78      0.67         5\n",
      "weighted avg       0.87      0.60      0.60         5\n",
      "\n",
      "[2. 1. 2. 2. 1. 2. 1. 1. 0. 1. 0.]\n",
      "[2. 1. 2. 2. 1. 2. 1. 0. 0. 1. 0.]\n",
      "\n",
      "Average Test Results Across Folds:\n",
      "Accuracy: 0.909090909090909\n"
     ]
    },
    {
     "data": {
      "image/png": "[encoded data removed]",
      "text/plain": [
       "<Figure size 576x432 with 2 Axes>"
      ]
     },
     "metadata": {
      "needs_background": "light"
     },
     "output_type": "display_data"
    }
   ],
   "source": [
    "X = features_list[:,0:3]\n",
    "y = features_list[:,-1]\n",
    "\n",
    "# Standardize the features (important for neural networks)\n",
    "scaler = StandardScaler()\n",
    "X = scaler.fit_transform(X)\n",
    "\n",
    "# Create an MLP classifier\n",
    "mlp_classifier = MLPClassifier(hidden_layer_sizes=(10, 30, 30, 10), max_iter=10000, random_state=42)\n",
    "\n",
    "# Split the data into training and testing sets\n",
    "X_train, X_test, y_train, y_test = train_test_split(X, y, test_size=0.3, random_state=42)\n",
    "\n",
    "# Use k-fold cross-validation\n",
    "kf = KFold(n_splits=5, shuffle=True, random_state=42)\n",
    "\n",
    "# Lists to store evaluation results\n",
    "test_accuracies = []\n",
    "test_classification_reps = []\n",
    "conf_matrices = []\n",
    "roc_aucs = []\n",
    "\n",
    "for train_index, test_index in kf.split(X_train):\n",
    "    X_train_fold, X_val_fold = X_train[train_index], X_train[test_index]\n",
    "    y_train_fold, y_val_fold = y_train[train_index], y_train[test_index]\n",
    "\n",
    "    # Fit the classifier to the training data\n",
    "    mlp_classifier.fit(X_train_fold, y_train_fold)\n",
    "\n",
    "    # Make predictions on the testing data\n",
    "    y_val_pred_fold = mlp_classifier.predict(X_val_fold)\n",
    "\n",
    "    # Evaluate the model on the validation set\n",
    "    val_accuracy_fold = accuracy_score(y_val_fold, y_val_pred_fold)\n",
    "    val_classification_rep_fold = classification_report(y_val_fold, y_val_pred_fold)\n",
    "\n",
    "    print(\"\\nValidation Results:\")\n",
    "    print(f\"Accuracy: {val_accuracy_fold}\")\n",
    "    print(\"Classification Report:\\n\", val_classification_rep_fold)\n",
    "\n",
    "    # Make predictions on the testing data\n",
    "    y_test_pred_fold = mlp_classifier.predict(X_test)\n",
    "\n",
    "    # print(X_test)\n",
    "    print(y_test)\n",
    "    print(y_test_pred_fold)\n",
    "\n",
    "    # Evaluate the model on the testing set\n",
    "    test_accuracy_fold = accuracy_score(y_test, y_test_pred_fold)\n",
    "    test_classification_rep_fold = classification_report(y_test, y_test_pred_fold)\n",
    "    test_accuracies.append(test_accuracy_fold)\n",
    "    test_classification_reps.append(test_classification_rep_fold)\n",
    "\n",
    "    # Plot Confusion Matrix for Validation Set\n",
    "    conf_matrix_test_fold = confusion_matrix(y_test, y_test_pred_fold)\n",
    "    conf_matrices.append(conf_matrix_test_fold)\n",
    "\n",
    "    # Convert labels to binary format for the ROC curve\n",
    "    y_test_bin_fold = label_binarize(y_test, classes=np.unique(y))\n",
    "\n",
    "    # Create a OneVsRestClassifier for ROC curve\n",
    "    classifier_ovr_fold = OneVsRestClassifier(mlp_classifier)\n",
    "    y_test_score_fold = classifier_ovr_fold.fit(X_train_fold, y_train_fold).predict_proba(X_test)\n",
    "\n",
    "    # Compute ROC curve and ROC area for each class\n",
    "    fpr_fold = dict()\n",
    "    tpr_fold = dict()\n",
    "    roc_auc_fold = dict()\n",
    "\n",
    "    for i in range(len(np.unique(y))):\n",
    "        fpr_fold[i], tpr_fold[i], _ = roc_curve(y_test_bin_fold[:, i], y_test_score_fold[:, i])\n",
    "        roc_auc_fold[i] = auc(fpr_fold[i], tpr_fold[i])\n",
    "\n",
    "    roc_aucs.append(roc_auc_fold)\n",
    "\n",
    "# Print the average test results over all folds\n",
    "print(\"\\nAverage Test Results Across Folds:\")\n",
    "print(f\"Accuracy: {np.mean(test_accuracies)}\")\n",
    "\n",
    "# Plot normalized Confusion Matrix for Validation Set\n",
    "conf_matrix_avg = np.mean(conf_matrices, axis=0)\n",
    "conf_matrix_test_normalized = conf_matrix_avg / conf_matrix_avg.sum(axis=1, keepdims=True)\n",
    "plt.figure(figsize=(8, 6))\n",
    "plt.imshow(conf_matrix_test_normalized, interpolation='nearest', cmap=plt.cm.Blues, vmin=0, vmax=1)\n",
    "plt.title('Normalized Confusion Matrix - Test Set')\n",
    "plt.colorbar()\n",
    "\n",
    "classes = list(set(y))\n",
    "tick_marks = np.arange(len(classes))\n",
    "plt.xticks(tick_marks, classes, rotation=45)\n",
    "plt.yticks(tick_marks, classes)\n",
    "\n",
    "plt.xlabel('Predicted Label')\n",
    "plt.ylabel('True Label')\n",
    "\n",
    "for i in range(len(classes)):\n",
    "    for j in range(len(classes)):\n",
    "        plt.text(j, i, f\"{conf_matrix_test_normalized[i, j]*100:.2f}%\", ha='center', va='center')\n",
    "\n",
    "plt.show()"
   ]
  },
  {
   "cell_type": "markdown",
   "metadata": {},
   "source": [
    "##### SVM"
   ]
  },
  {
   "cell_type": "code",
   "execution_count": 1,
   "metadata": {},
   "outputs": [],
   "source": [
    "import numpy as np\n",
    "import matplotlib.pyplot as plt\n",
    "from sklearn.model_selection import train_test_split, cross_val_score, StratifiedKFold\n",
    "from sklearn.svm import SVC\n",
    "from sklearn.metrics import accuracy_score, confusion_matrix\n",
    "import seaborn as sns\n"
   ]
  },
  {
   "cell_type": "code",
   "execution_count": 25,
   "metadata": {},
   "outputs": [
    {
     "name": "stdout",
     "output_type": "stream",
     "text": [
      "[2. 1. 2. 2. 1. 2. 1. 1. 0. 1. 0.]\n",
      "[2. 1. 2. 2. 1. 2. 1. 1. 0. 1. 0.]\n",
      "Accuracy on the test set: 100.00%\n",
      "Cross-Validation Accuracy Scores: [0.8 1.  1.  1.  1. ]\n",
      "Average Cross-Validation Accuracy: 96.00%\n"
     ]
    },
    {
     "data": {
      "image/png": "[encoded data removed]",
      "text/plain": [
       "<Figure size 576x432 with 2 Axes>"
      ]
     },
     "metadata": {
      "needs_background": "light"
     },
     "output_type": "display_data"
    }
   ],
   "source": [
    "X = features_list[:,0:2]\n",
    "y = features_list[:,-1]\n",
    "\n",
    "# Split the data into training and testing sets\n",
    "X_train, X_test, y_train, y_test = train_test_split(X, y, test_size=0.3, random_state=42)\n",
    "\n",
    "# Create an SVM model\n",
    "svm_model = SVC(kernel='linear', max_iter=10000)\n",
    "\n",
    "# Perform k-fold cross-validation\n",
    "kfold = StratifiedKFold(n_splits=5, shuffle=True, random_state=42)\n",
    "cv_scores = cross_val_score(svm_model, X_train, y_train, cv=kfold, scoring='accuracy')\n",
    "\n",
    "# Train the model on the entire training data\n",
    "svm_model.fit(X_train, y_train)\n",
    "\n",
    "# Make predictions on the test data\n",
    "y_pred = svm_model.predict(X_test)\n",
    "\n",
    "print(y_test)\n",
    "print(y_pred)\n",
    "\n",
    "# Calculate accuracy on the test set\n",
    "accuracy = accuracy_score(y_test, y_pred)\n",
    "print(f\"Accuracy on the test set: {accuracy * 100:.2f}%\")\n",
    "\n",
    "# Print cross-validation results\n",
    "print(\"Cross-Validation Accuracy Scores:\", cv_scores)\n",
    "print(f\"Average Cross-Validation Accuracy: {np.mean(cv_scores) * 100:.2f}%\")\n",
    "\n",
    "# Plot the confusion matrix with accuracy percentages and colorbar\n",
    "conf_matrix = confusion_matrix(y_test, y_pred)\n",
    "conf_matrix_percentage = conf_matrix.astype('float') / conf_matrix.sum(axis=1)[:, np.newaxis] * 100\n",
    "\n",
    "# Plot as a heatmap using seaborn\n",
    "plt.figure(figsize=(8, 6))\n",
    "sns.heatmap(conf_matrix_percentage, annot=True, fmt='.2f', cmap='Blues', cbar=True,\n",
    "            xticklabels=np.unique(y), yticklabels=np.unique(y))\n",
    "plt.title('Confusion Matrix - Test Set (Accuracy Percentage)')\n",
    "plt.xlabel('Predicted Label')\n",
    "plt.ylabel('True Label')\n",
    "plt.show()"
   ]
  }
 ],
 "metadata": {
  "kernelspec": {
   "display_name": "Python 3",
   "language": "python",
   "name": "python3"
  },
  "language_info": {
   "codemirror_mode": {
    "name": "ipython",
    "version": 3
   },
   "file_extension": ".py",
   "mimetype": "text/x-python",
   "name": "python",
   "nbconvert_exporter": "python",
   "pygments_lexer": "ipython3",
   "version": "3.9.5"
  }
 },
 "nbformat": 4,
 "nbformat_minor": 2
}
